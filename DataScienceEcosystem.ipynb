{
 "cells": [
  {
   "cell_type": "markdown",
   "id": "3c82b551",
   "metadata": {},
   "source": [
    "<center>\n",
    "    <img src=\"https://cf-courses-data.s3.us.cloud-object-storage.appdomain.cloud/IBMDeveloperSkillsNetwork-DS0105EN-SkillsNetwork/labs/Module2/images/SN_web_lightmode.png\" width=\"300\" alt=\"cognitiveclass.ai logo\">\n",
    "</center>\n"
   ]
  },
  {
   "cell_type": "markdown",
   "id": "94627660",
   "metadata": {},
   "source": [
    "#### Add your code below following the instructions given in the course"
   ]
  },
  {
   "cell_type": "markdown",
   "id": "a9403022",
   "metadata": {},
   "source": [
    "# Data Science Tools and Ecosystem"
   ]
  },
  {
   "cell_type": "markdown",
   "id": "ff2db7d7",
   "metadata": {},
   "source": [
    "In this notebook, Data Science Tools and Ecosystems are summrized."
   ]
  },
  {
   "cell_type": "markdown",
   "id": "6f7fcf53",
   "metadata": {},
   "source": [
    "Some of the popular languages that Data Scientists use are:\n",
    "1. Pyhton\n",
    "2. R\n",
    "3. Julia\n",
    "4. Java\n",
    "5. Scala\n",
    "6. C++"
   ]
  },
  {
   "cell_type": "markdown",
   "id": "8673ec8f",
   "metadata": {},
   "source": [
    "Some of the commonly used libraries used by Data Scientist include:\n",
    "1. Pandas\n",
    "2. Matplotlib\n",
    "3. Numby\n",
    "4. Plotly\n",
    "5. ggplot"
   ]
  },
  {
   "cell_type": "markdown",
   "id": "7852a710",
   "metadata": {},
   "source": [
    "| Data science tools |\n",
    "| ---- |\n",
    "| VS Code |\n",
    "| Node |\n",
    "| Atom |"
   ]
  },
  {
   "cell_type": "markdown",
   "id": "8619ccbe",
   "metadata": {},
   "source": [
    "### Below are a few examples of evaluating arithmetic expression in python."
   ]
  },
  {
   "cell_type": "code",
   "execution_count": 2,
   "id": "32408d0c",
   "metadata": {},
   "outputs": [
    {
     "data": {
      "text/plain": [
       "17"
      ]
     },
     "execution_count": 2,
     "metadata": {},
     "output_type": "execute_result"
    }
   ],
   "source": [
    "# This a simple arithmetic expression to multiply and add intrgers\n",
    "\n",
    "(3*4)+5"
   ]
  },
  {
   "cell_type": "code",
   "execution_count": 3,
   "id": "8ba0ce94",
   "metadata": {},
   "outputs": [
    {
     "data": {
      "text/plain": [
       "3.3333333333333335"
      ]
     },
     "execution_count": 3,
     "metadata": {},
     "output_type": "execute_result"
    }
   ],
   "source": [
    "# This will convert 200 minutes to hours by dividing by 60.\n",
    "\n",
    "200/60"
   ]
  },
  {
   "cell_type": "markdown",
   "id": "c3398218",
   "metadata": {},
   "source": [
    "<b>Objective of this notebook: </b>\n",
    "* Cover the popular languages that Data Scientists use such Python and R\n",
    "* The libraries used by Data Scientist such as Pandas and Numpy\n",
    "* Some of arithmetic expression in python such as multiply, add and dividing."
   ]
  },
  {
   "cell_type": "markdown",
   "id": "cedcfd6f",
   "metadata": {},
   "source": [
    "## Author\n",
    "Mohamed Taha"
   ]
  }
 ],
 "metadata": {
  "kernelspec": {
   "display_name": "Python 3 (ipykernel)",
   "language": "python",
   "name": "python3"
  },
  "language_info": {
   "codemirror_mode": {
    "name": "ipython",
    "version": 3
   },
   "file_extension": ".py",
   "mimetype": "text/x-python",
   "name": "python",
   "nbconvert_exporter": "python",
   "pygments_lexer": "ipython3",
   "version": "3.10.9"
  }
 },
 "nbformat": 4,
 "nbformat_minor": 5
}
