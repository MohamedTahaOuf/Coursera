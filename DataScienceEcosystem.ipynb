#!/usr/bin/env python
# coding: utf-8

# <center>
#     <img src="https://cf-courses-data.s3.us.cloud-object-storage.appdomain.cloud/IBMDeveloperSkillsNetwork-DS0105EN-SkillsNetwork/labs/Module2/images/SN_web_lightmode.png" width="300" alt="cognitiveclass.ai logo">
# </center>
# 

# #### Add your code below following the instructions given in the course

# # Data Science Tools and Ecosystem

# In this notebook, Data Science Tools and Ecosystems are summrized.

# Some of the popular languages that Data Scientists use are:
# 1. Pyhton
# 2. R
# 3. Julia
# 4. Java
# 5. Scala
# 6. C++

# Some of the commonly used libraries used by Data Scientist include:
# 1. Pandas
# 2. Matplotlib
# 3. Numby
# 4. Plotly
# 5. ggplot

# | Data science tools |
# | ---- |
# | VS Code |
# | Node |
# | Atom |

# ### Below are a few examples of evaluating arithmetic expression in python.

# In[2]:


# This a simple arithmetic expression to multiply and add intrgers

(3*4)+5


# In[3]:


# This will convert 200 minutes to hours by dividing by 60.

200/60


# <b>Objective of this notebook: </b>
# * Cover the popular languages that Data Scientists use such Python and R
# * The libraries used by Data Scientist such as Pandas and Numpy
# * Some of arithmetic expression in python such as multiply, add and dividing.

# ## Author
# Mohamed Taha
